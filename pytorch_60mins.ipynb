{
  "nbformat": 4,
  "nbformat_minor": 0,
  "metadata": {
    "colab": {
      "name": "pytorch_60mins.ipynb",
      "provenance": [],
      "collapsed_sections": [],
      "include_colab_link": true
    },
    "kernelspec": {
      "name": "python3",
      "display_name": "Python 3"
    },
    "accelerator": "GPU"
  },
  "cells": [
    {
      "cell_type": "markdown",
      "metadata": {
        "id": "view-in-github",
        "colab_type": "text"
      },
      "source": [
        "<a href=\"https://colab.research.google.com/github/cp612sh/2048/blob/master/pytorch_60mins.ipynb\" target=\"_parent\"><img src=\"https://colab.research.google.com/assets/colab-badge.svg\" alt=\"Open In Colab\"/></a>"
      ]
    },
    {
      "cell_type": "markdown",
      "metadata": {
        "id": "7Upgk1__HnQe",
        "colab_type": "text"
      },
      "source": [
        "pytorch 1.3.0 \n",
        "\n",
        "开始"
      ]
    },
    {
      "cell_type": "markdown",
      "metadata": {
        "id": "VOlYzQjM6u91",
        "colab_type": "text"
      },
      "source": [
        "##Tensor"
      ]
    },
    {
      "cell_type": "code",
      "metadata": {
        "id": "iyoxHBfYGFvJ",
        "colab_type": "code",
        "colab": {}
      },
      "source": [
        "import torch"
      ],
      "execution_count": 0,
      "outputs": []
    },
    {
      "cell_type": "code",
      "metadata": {
        "id": "H8UG7xIcGLNN",
        "colab_type": "code",
        "colab": {
          "base_uri": "https://localhost:8080/",
          "height": 102
        },
        "outputId": "74049799-4e43-4f3a-c55c-ba957a6654e2"
      },
      "source": [
        "x = torch.empty(5,3) # 未初始化\n",
        "print(x)"
      ],
      "execution_count": 3,
      "outputs": [
        {
          "output_type": "stream",
          "text": [
            "tensor([[2.3541e-36, 0.0000e+00, 0.0000e+00],\n",
            "        [0.0000e+00, 0.0000e+00, 0.0000e+00],\n",
            "        [0.0000e+00, 0.0000e+00, 2.8026e-45],\n",
            "        [0.0000e+00, 1.1210e-44, 0.0000e+00],\n",
            "        [1.4013e-45, 0.0000e+00, 0.0000e+00]])\n"
          ],
          "name": "stdout"
        }
      ]
    },
    {
      "cell_type": "code",
      "metadata": {
        "id": "urKLs4v2GYSi",
        "colab_type": "code",
        "colab": {
          "base_uri": "https://localhost:8080/",
          "height": 102
        },
        "outputId": "171f6027-8158-4581-da75-ae2c4de65713"
      },
      "source": [
        "rx = torch.rand(5,3) # 随机\n",
        "print(rx)"
      ],
      "execution_count": 4,
      "outputs": [
        {
          "output_type": "stream",
          "text": [
            "tensor([[0.6805, 0.6361, 0.7077],\n",
            "        [0.1973, 0.4288, 0.9066],\n",
            "        [0.0458, 0.2461, 0.7192],\n",
            "        [0.9192, 0.8576, 0.6245],\n",
            "        [0.4574, 0.6545, 0.9929]])\n"
          ],
          "name": "stdout"
        }
      ]
    },
    {
      "cell_type": "code",
      "metadata": {
        "id": "8dROMXsD4ehR",
        "colab_type": "code",
        "colab": {
          "base_uri": "https://localhost:8080/",
          "height": 102
        },
        "outputId": "ea6f2555-72be-4d08-b153-69a32302c5e2"
      },
      "source": [
        "zx = torch.zeros(5,3,dtype=torch.long) # 类型为long的全零\n",
        "print(zx)"
      ],
      "execution_count": 6,
      "outputs": [
        {
          "output_type": "stream",
          "text": [
            "tensor([[0, 0, 0],\n",
            "        [0, 0, 0],\n",
            "        [0, 0, 0],\n",
            "        [0, 0, 0],\n",
            "        [0, 0, 0]])\n"
          ],
          "name": "stdout"
        }
      ]
    },
    {
      "cell_type": "code",
      "metadata": {
        "id": "JOtXwoEi48KC",
        "colab_type": "code",
        "colab": {
          "base_uri": "https://localhost:8080/",
          "height": 34
        },
        "outputId": "42a1b623-9cad-4345-a1c3-ee886b9aaa41"
      },
      "source": [
        "dx = torch.tensor([5.5,3]) # 直接从数据构建Tensor\n",
        "print(dx)"
      ],
      "execution_count": 7,
      "outputs": [
        {
          "output_type": "stream",
          "text": [
            "tensor([5.5000, 3.0000])\n"
          ],
          "name": "stdout"
        }
      ]
    },
    {
      "cell_type": "code",
      "metadata": {
        "id": "gWBJAjLp5iMI",
        "colab_type": "code",
        "colab": {
          "base_uri": "https://localhost:8080/",
          "height": 187
        },
        "outputId": "c9eb1f36-170a-4691-f630-9b8b19f852aa"
      },
      "source": [
        "# 从已有的Tensor中创建Tensor\n",
        "# new_* 方法\n",
        "x = x.new_ones(5,3, dtype=torch.double)\n",
        "print(x)\n",
        "\n",
        "# rand like\n",
        "x = torch.rand_like(x, dtype=torch.float)\n",
        "print(x)"
      ],
      "execution_count": 8,
      "outputs": [
        {
          "output_type": "stream",
          "text": [
            "tensor([[1., 1., 1.],\n",
            "        [1., 1., 1.],\n",
            "        [1., 1., 1.],\n",
            "        [1., 1., 1.],\n",
            "        [1., 1., 1.]], dtype=torch.float64)\n",
            "tensor([[0.0744, 0.1737, 0.3313],\n",
            "        [0.7318, 0.5387, 0.2123],\n",
            "        [0.1027, 0.8573, 0.5229],\n",
            "        [0.1631, 0.1374, 0.9943],\n",
            "        [0.4395, 0.8733, 0.8431]])\n"
          ],
          "name": "stdout"
        }
      ]
    },
    {
      "cell_type": "code",
      "metadata": {
        "id": "4bGpEVqR6Y7u",
        "colab_type": "code",
        "colab": {
          "base_uri": "https://localhost:8080/",
          "height": 34
        },
        "outputId": "35758de3-2b0b-4957-91cb-48ab6c308f1c"
      },
      "source": [
        "print(x.size()) "
      ],
      "execution_count": 10,
      "outputs": [
        {
          "output_type": "stream",
          "text": [
            "torch.Size([5, 3])\n"
          ],
          "name": "stdout"
        }
      ]
    },
    {
      "cell_type": "markdown",
      "metadata": {
        "id": "JTCD1ggw7CWq",
        "colab_type": "text"
      },
      "source": [
        "## Operations"
      ]
    },
    {
      "cell_type": "code",
      "metadata": {
        "id": "OxFvt2cX6i5M",
        "colab_type": "code",
        "colab": {
          "base_uri": "https://localhost:8080/",
          "height": 102
        },
        "outputId": "576ee4d4-2e60-4555-841c-0a07b6b56a5e"
      },
      "source": [
        "y = torch.rand(5,3)\n",
        "print(x + y)"
      ],
      "execution_count": 11,
      "outputs": [
        {
          "output_type": "stream",
          "text": [
            "tensor([[0.5833, 0.3616, 0.9108],\n",
            "        [0.9666, 1.2862, 0.7426],\n",
            "        [0.6659, 1.7698, 1.0953],\n",
            "        [0.5931, 1.0894, 1.2041],\n",
            "        [0.7031, 1.3008, 1.6329]])\n"
          ],
          "name": "stdout"
        }
      ]
    },
    {
      "cell_type": "code",
      "metadata": {
        "id": "sjHITJgZ7SH3",
        "colab_type": "code",
        "colab": {
          "base_uri": "https://localhost:8080/",
          "height": 102
        },
        "outputId": "ffe80761-d9ba-488f-8a2b-5a5d77992958"
      },
      "source": [
        "print(torch.add(x,y)) # another add"
      ],
      "execution_count": 12,
      "outputs": [
        {
          "output_type": "stream",
          "text": [
            "tensor([[0.5833, 0.3616, 0.9108],\n",
            "        [0.9666, 1.2862, 0.7426],\n",
            "        [0.6659, 1.7698, 1.0953],\n",
            "        [0.5931, 1.0894, 1.2041],\n",
            "        [0.7031, 1.3008, 1.6329]])\n"
          ],
          "name": "stdout"
        }
      ]
    },
    {
      "cell_type": "code",
      "metadata": {
        "id": "qwEksytY7iUs",
        "colab_type": "code",
        "colab": {
          "base_uri": "https://localhost:8080/",
          "height": 102
        },
        "outputId": "9be4a290-29c2-406a-df36-4663a3a4fd6a"
      },
      "source": [
        "result = torch.empty(5,3)\n",
        "torch.add(x,y,out=result) \n",
        "print(result)"
      ],
      "execution_count": 13,
      "outputs": [
        {
          "output_type": "stream",
          "text": [
            "tensor([[0.5833, 0.3616, 0.9108],\n",
            "        [0.9666, 1.2862, 0.7426],\n",
            "        [0.6659, 1.7698, 1.0953],\n",
            "        [0.5931, 1.0894, 1.2041],\n",
            "        [0.7031, 1.3008, 1.6329]])\n"
          ],
          "name": "stdout"
        }
      ]
    },
    {
      "cell_type": "code",
      "metadata": {
        "id": "msKbTSg-7-df",
        "colab_type": "code",
        "colab": {
          "base_uri": "https://localhost:8080/",
          "height": 102
        },
        "outputId": "8a0f0e50-4e66-4225-80a2-4486f431ad54"
      },
      "source": [
        "# add x to y\n",
        "y.add_(x)\n",
        "print(y)"
      ],
      "execution_count": 14,
      "outputs": [
        {
          "output_type": "stream",
          "text": [
            "tensor([[0.5833, 0.3616, 0.9108],\n",
            "        [0.9666, 1.2862, 0.7426],\n",
            "        [0.6659, 1.7698, 1.0953],\n",
            "        [0.5931, 1.0894, 1.2041],\n",
            "        [0.7031, 1.3008, 1.6329]])\n"
          ],
          "name": "stdout"
        }
      ]
    },
    {
      "cell_type": "code",
      "metadata": {
        "id": "WuW4nUuy83wf",
        "colab_type": "code",
        "colab": {
          "base_uri": "https://localhost:8080/",
          "height": 34
        },
        "outputId": "8ea5c736-a97b-4398-b793-4fb56d57ac58"
      },
      "source": [
        "print(x[:,1])"
      ],
      "execution_count": 15,
      "outputs": [
        {
          "output_type": "stream",
          "text": [
            "tensor([0.1737, 0.5387, 0.8573, 0.1374, 0.8733])\n"
          ],
          "name": "stdout"
        }
      ]
    },
    {
      "cell_type": "code",
      "metadata": {
        "id": "5ij4fo7H9IoN",
        "colab_type": "code",
        "colab": {
          "base_uri": "https://localhost:8080/",
          "height": 34
        },
        "outputId": "09a92855-1265-4c60-9969-73df6c6ce370"
      },
      "source": [
        "# resizing with torch.view\n",
        "x = torch.randn(4,4)\n",
        "y = x.view(16)\n",
        "z = x.view(-1, 8) # -1 is inferred from other denmentions\n",
        "\n",
        "print(x.size(), y.size(), z.size())"
      ],
      "execution_count": 17,
      "outputs": [
        {
          "output_type": "stream",
          "text": [
            "torch.Size([4, 4]) torch.Size([16]) torch.Size([2, 8])\n"
          ],
          "name": "stdout"
        }
      ]
    },
    {
      "cell_type": "code",
      "metadata": {
        "id": "kB1TMHjy9qVR",
        "colab_type": "code",
        "colab": {
          "base_uri": "https://localhost:8080/",
          "height": 51
        },
        "outputId": "70ad243b-8d33-4202-f8e4-e5c1fab19ae8"
      },
      "source": [
        "x = torch.randn(1)\n",
        "print(x)\n",
        "print(x.item())"
      ],
      "execution_count": 20,
      "outputs": [
        {
          "output_type": "stream",
          "text": [
            "tensor([-0.8379])\n",
            "-0.8378638625144958\n"
          ],
          "name": "stdout"
        }
      ]
    },
    {
      "cell_type": "code",
      "metadata": {
        "id": "Vx7INrFM-LZm",
        "colab_type": "code",
        "colab": {
          "base_uri": "https://localhost:8080/",
          "height": 34
        },
        "outputId": "34082352-d767-4349-839a-722f314510d2"
      },
      "source": [
        "a = torch.ones([5])\n",
        "print(a)"
      ],
      "execution_count": 21,
      "outputs": [
        {
          "output_type": "stream",
          "text": [
            "tensor([1., 1., 1., 1., 1.])\n"
          ],
          "name": "stdout"
        }
      ]
    },
    {
      "cell_type": "code",
      "metadata": {
        "id": "KJ5d8wrd-shQ",
        "colab_type": "code",
        "colab": {
          "base_uri": "https://localhost:8080/",
          "height": 34
        },
        "outputId": "2f332a81-4c2b-4994-a47a-5b08e3df9f80"
      },
      "source": [
        "b = a.numpy()\n",
        "print(b)"
      ],
      "execution_count": 22,
      "outputs": [
        {
          "output_type": "stream",
          "text": [
            "[1. 1. 1. 1. 1.]\n"
          ],
          "name": "stdout"
        }
      ]
    },
    {
      "cell_type": "code",
      "metadata": {
        "id": "tci6cgEe-zNP",
        "colab_type": "code",
        "colab": {
          "base_uri": "https://localhost:8080/",
          "height": 51
        },
        "outputId": "977f00e2-0d00-4177-b2dc-9b53cf3d01cb"
      },
      "source": [
        "a.add_(1)\n",
        "print(a)\n",
        "print(b)"
      ],
      "execution_count": 23,
      "outputs": [
        {
          "output_type": "stream",
          "text": [
            "tensor([2., 2., 2., 2., 2.])\n",
            "[2. 2. 2. 2. 2.]\n"
          ],
          "name": "stdout"
        }
      ]
    },
    {
      "cell_type": "code",
      "metadata": {
        "id": "EClupsh3-_j-",
        "colab_type": "code",
        "colab": {
          "base_uri": "https://localhost:8080/",
          "height": 51
        },
        "outputId": "e4194e04-30b6-4d73-da69-f4bcbac5aa10"
      },
      "source": [
        "import numpy as np\n",
        "a = np.ones(5)\n",
        "b = torch.from_numpy(a)\n",
        "np.add(a, 1, out=a)\n",
        "print(a)\n",
        "print(b)\n"
      ],
      "execution_count": 25,
      "outputs": [
        {
          "output_type": "stream",
          "text": [
            "[2. 2. 2. 2. 2.]\n",
            "tensor([2., 2., 2., 2., 2.], dtype=torch.float64)\n"
          ],
          "name": "stdout"
        }
      ]
    },
    {
      "cell_type": "code",
      "metadata": {
        "id": "27TVTCyB_Xcy",
        "colab_type": "code",
        "colab": {
          "base_uri": "https://localhost:8080/",
          "height": 34
        },
        "outputId": "86eb8e04-3c9f-4c4e-b793-9b1b161af35f"
      },
      "source": [
        "print(torch.cuda.is_available())"
      ],
      "execution_count": 26,
      "outputs": [
        {
          "output_type": "stream",
          "text": [
            "True\n"
          ],
          "name": "stdout"
        }
      ]
    },
    {
      "cell_type": "code",
      "metadata": {
        "id": "1lgvgeQ6_ySB",
        "colab_type": "code",
        "colab": {
          "base_uri": "https://localhost:8080/",
          "height": 51
        },
        "outputId": "516db128-e8f9-41b0-e912-9822459c0827"
      },
      "source": [
        "if torch.cuda.is_available():\n",
        "  device = torch.device(\"cuda\") # a CUDA device object\n",
        "  y = torch.ones_like(x, device=device) # 直接在CUDA设备上创建Tensor\n",
        "  x = x.to(device) # 也可以用 cuda 字符串\n",
        "  z = x + y\n",
        "  print(z)\n",
        "  print(z.to(\"cpu\", torch.double))"
      ],
      "execution_count": 29,
      "outputs": [
        {
          "output_type": "stream",
          "text": [
            "tensor([0.1621], device='cuda:0')\n",
            "tensor([0.1621], dtype=torch.float64)\n"
          ],
          "name": "stdout"
        }
      ]
    },
    {
      "cell_type": "code",
      "metadata": {
        "id": "7d0x7QrHA2Ye",
        "colab_type": "code",
        "colab": {}
      },
      "source": [
        ""
      ],
      "execution_count": 0,
      "outputs": []
    }
  ]
}